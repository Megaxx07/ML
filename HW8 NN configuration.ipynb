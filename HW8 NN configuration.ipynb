import numpy as np
import pandas as pd
df = pd.read_csv('E:/NYU/21 fall classes/21 fall  FRE 9733/211027 Session8/session8_homework.csv')
print(df.head())
#Input array
X=np.array(df.drop(['clientid','income','loan','default10yr'], axis = 1))
#Output
y=np.array(df[['default10yr']])
#Sigmoid Function
def sigmoid (x):
    return 1/(1 + np.exp(-x))
#Derivative of Sigmoid Function
def derivatives_sigmoid(x):
    return x * (1 - x)
#Variable initialization
epoch=5000
lr=0.1
inputlayer_neurons = X.shape[1]
hiddenlayer_neurons = 4
output_neurons = 1

#weight and bias initialization
wh=np.random.uniform(size=(inputlayer_neurons,hiddenlayer_neurons))
bh=np.random.uniform(size=(1,hiddenlayer_neurons))
wout=np.random.uniform(size=(hiddenlayer_neurons,output_neurons))
bout=np.random.uniform(size=(1,output_neurons))
#Forward Propogation
for i in range(epoch):
    hidden_layer_input1=np.dot(X,wh)
    hidden_layer_input=hidden_layer_input1 + bh
    hiddenlayer_activations = sigmoid(hidden_layer_input)
    output_layer_input1=np.dot(hiddenlayer_activations,wout)
    output_layer_input= output_layer_input1+ bout
    output = sigmoid(output_layer_input)
#Backpropagation
E = y-output
slope_output_layer = derivatives_sigmoid(output)
slope_hidden_layer = derivatives_sigmoid(hiddenlayer_activations)
d_output = E * slope_output_layer
Error_at_hidden_layer = d_output.dot(wout.T)
d_hiddenlayer = Error_at_hidden_layer * slope_hidden_layer
wout += hiddenlayer_activations.T.dot(d_output) *lr
bout += np.sum(d_output, axis=0,keepdims=True) *lr
wh += X.T.dot(d_hiddenlayer) *lr
bh += np.sum(d_hiddenlayer, axis=0,keepdims=True) *lr
print(output)
scores = np.dot(X, wh) + bh
predicted_class = np.argmax(scores, axis=1)
print(np.mean(predicted_class == y))

import graphviz as gz
from graphviz import Digraph


def Neural_Network_Graph(input_layer, hidden_layers, output_layer, filename="demo"):
    g = Digraph('g', filename=filename)
    n = 0
    g.graph_attr.update(splines="false", nodesep='0.8',
                        ranksep='2', rankdir="LR")

    # Input Layer
    with g.subgraph(name='cluster_input') as c:
        the_label = 'Input Layer'
        c.attr(color='white')
        for i in range(input_layer):
            n += 1
            c.node(str(n))
            c.attr(label=the_label, rank='same')
            c.node_attr.update(color="#2ecc71", style="filled",
                               fontcolor="#2ecc71", shape="circle")

    last_layer_nodes = input_layer
    nodes_up = input_layer

    hidden_layers_nr = len(hidden_layers)
    for i in range(hidden_layers_nr):
        with g.subgraph(name="cluster_" + str(i + 1)) as c:
            c.attr(color='white')
            c.attr(rank='same')
            the_label = "Hidden Layer" + str(i + 1)
            c.attr(label=the_label)
            for j in range(hidden_layers[i]):
                n += 1
                c.node(str(n), shape="circle", style="filled",
                       color="#3498db", fontcolor="#3498db")
                for h in range(nodes_up - last_layer_nodes + 1, nodes_up + 1):
                    g.edge(str(h), str(n))
            last_layer_nodes = hidden_layers[i]
            nodes_up += hidden_layers[i]

    # Output Layer
    with g.subgraph(name='cluster_output') as c:
        c.attr(color='white')
        c.attr(rank='same')
        for i in range(1, output_layer + 1):
            n += 1
            c.node(str(n), shape="circle", style="filled",
                   color="#e74c3c", fontcolor="#e74c3c")
            for h in range(nodes_up - last_layer_nodes + 1, nodes_up + 1):
                g.edge(str(h), str(n))
        c.attr(label='Output Layer')
        c.node_attr.update(color="#2ecc71", style="filled",
                           fontcolor="#2ecc71", shape="circle")

    g.attr(arrowShape="none")
    g.edge_attr.update(arrowhead="none", color="#707070")
    g.render(filename, format="png")


input_layer = 2
hidden_layers = [4]
output_layer = 1

Neural_Network_Graph(input_layer, hidden_layers, output_layer)
