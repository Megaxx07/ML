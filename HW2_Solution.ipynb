{
 "cells": [
  {
   "cell_type": "markdown",
   "metadata": {},
   "source": [
    "## PCA / Interest Rate -- HW2 Solution Write-up"
   ]
  },
  {
   "cell_type": "markdown",
   "metadata": {},
   "source": [
    "This simple Write-up notebook shows necessary code and explanations are not included here. Students' submission needs to display analysis and comments."
   ]
  },
  {
   "cell_type": "code",
   "execution_count": 1,
   "metadata": {},
   "outputs": [
    {
     "ename": "ModuleNotFoundError",
     "evalue": "No module named 'seaborn'",
     "output_type": "error",
     "traceback": [
      "\u001b[0;31m---------------------------------------------------------------------------\u001b[0m",
      "\u001b[0;31mModuleNotFoundError\u001b[0m                       Traceback (most recent call last)",
      "\u001b[0;32m<ipython-input-1-020b0d24332d>\u001b[0m in \u001b[0;36m<module>\u001b[0;34m()\u001b[0m\n\u001b[1;32m      8\u001b[0m \u001b[0;32mfrom\u001b[0m \u001b[0msklearn\u001b[0m\u001b[0;34m.\u001b[0m\u001b[0mpreprocessing\u001b[0m \u001b[0;32mimport\u001b[0m \u001b[0mscale\u001b[0m\u001b[0;34m\u001b[0m\u001b[0;34m\u001b[0m\u001b[0m\n\u001b[1;32m      9\u001b[0m \u001b[0;32mfrom\u001b[0m \u001b[0msklearn\u001b[0m\u001b[0;34m.\u001b[0m\u001b[0mdecomposition\u001b[0m \u001b[0;32mimport\u001b[0m \u001b[0mPCA\u001b[0m\u001b[0;34m\u001b[0m\u001b[0;34m\u001b[0m\u001b[0m\n\u001b[0;32m---> 10\u001b[0;31m \u001b[0;32mimport\u001b[0m \u001b[0mseaborn\u001b[0m \u001b[0;32mas\u001b[0m \u001b[0msns\u001b[0m\u001b[0;34m\u001b[0m\u001b[0;34m\u001b[0m\u001b[0m\n\u001b[0m\u001b[1;32m     11\u001b[0m \u001b[0;31m# from sklearn.metrics import mean_squared_error, r2_score\u001b[0m\u001b[0;34m\u001b[0m\u001b[0;34m\u001b[0m\u001b[0;34m\u001b[0m\u001b[0m\n",
      "\u001b[0;31mModuleNotFoundError\u001b[0m: No module named 'seaborn'"
     ]
    }
   ],
   "source": [
    "import numpy as np\n",
    "import pandas as pd\n",
    "import statsmodels.api as sm\n",
    "import matplotlib.pyplot as plt\n",
    "import os\n",
    "import re\n",
    "from sklearn import linear_model\n",
    "from sklearn.preprocessing import scale\n",
    "from sklearn.decomposition import PCA\n",
    "import seaborn as sns\n",
    "# from sklearn.metrics import mean_squared_error, r2_score"
   ]
  },
  {
   "cell_type": "markdown",
   "metadata": {},
   "source": [
    "### Step 1. Read the data session_2_homework_data.csv"
   ]
  },
  {
   "cell_type": "code",
   "execution_count": 2,
   "metadata": {},
   "outputs": [
    {
     "data": {
      "text/plain": [
       "'/Users/christoherrosin/Desktop/Machine Learning GA/Homework Solution'"
      ]
     },
     "execution_count": 2,
     "metadata": {},
     "output_type": "execute_result"
    }
   ],
   "source": [
    "os.getcwd()"
   ]
  },
  {
   "cell_type": "code",
   "execution_count": 3,
   "metadata": {},
   "outputs": [],
   "source": [
    "data = pd.read_csv('session_2_homework_data.csv')"
   ]
  },
  {
   "cell_type": "code",
   "execution_count": 4,
   "metadata": {},
   "outputs": [
    {
     "data": {
      "text/html": [
       "<div>\n",
       "<style scoped>\n",
       "    .dataframe tbody tr th:only-of-type {\n",
       "        vertical-align: middle;\n",
       "    }\n",
       "\n",
       "    .dataframe tbody tr th {\n",
       "        vertical-align: top;\n",
       "    }\n",
       "\n",
       "    .dataframe thead th {\n",
       "        text-align: right;\n",
       "    }\n",
       "</style>\n",
       "<table border=\"1\" class=\"dataframe\">\n",
       "  <thead>\n",
       "    <tr style=\"text-align: right;\">\n",
       "      <th></th>\n",
       "      <th>Date</th>\n",
       "      <th>USGG3M</th>\n",
       "      <th>USGG6M</th>\n",
       "      <th>USGG2YR</th>\n",
       "      <th>USGG3YR</th>\n",
       "      <th>USGG5YR</th>\n",
       "      <th>USGG10YR</th>\n",
       "      <th>USGG30YR</th>\n",
       "      <th>Output1</th>\n",
       "      <th>Easing</th>\n",
       "      <th>Tightening</th>\n",
       "    </tr>\n",
       "  </thead>\n",
       "  <tbody>\n",
       "    <tr>\n",
       "      <th>0</th>\n",
       "      <td>1/5/1981</td>\n",
       "      <td>13.52</td>\n",
       "      <td>13.09</td>\n",
       "      <td>12.289</td>\n",
       "      <td>12.28</td>\n",
       "      <td>12.294</td>\n",
       "      <td>12.152</td>\n",
       "      <td>11.672</td>\n",
       "      <td>18.015526</td>\n",
       "      <td>NaN</td>\n",
       "      <td>NaN</td>\n",
       "    </tr>\n",
       "    <tr>\n",
       "      <th>1</th>\n",
       "      <td>1/6/1981</td>\n",
       "      <td>13.58</td>\n",
       "      <td>13.16</td>\n",
       "      <td>12.429</td>\n",
       "      <td>12.31</td>\n",
       "      <td>12.214</td>\n",
       "      <td>12.112</td>\n",
       "      <td>11.672</td>\n",
       "      <td>18.091398</td>\n",
       "      <td>NaN</td>\n",
       "      <td>NaN</td>\n",
       "    </tr>\n",
       "    <tr>\n",
       "      <th>2</th>\n",
       "      <td>1/7/1981</td>\n",
       "      <td>14.50</td>\n",
       "      <td>13.90</td>\n",
       "      <td>12.929</td>\n",
       "      <td>12.78</td>\n",
       "      <td>12.614</td>\n",
       "      <td>12.382</td>\n",
       "      <td>11.892</td>\n",
       "      <td>19.447314</td>\n",
       "      <td>NaN</td>\n",
       "      <td>NaN</td>\n",
       "    </tr>\n",
       "    <tr>\n",
       "      <th>3</th>\n",
       "      <td>1/8/1981</td>\n",
       "      <td>14.76</td>\n",
       "      <td>14.00</td>\n",
       "      <td>13.099</td>\n",
       "      <td>12.95</td>\n",
       "      <td>12.684</td>\n",
       "      <td>12.352</td>\n",
       "      <td>11.912</td>\n",
       "      <td>19.748510</td>\n",
       "      <td>NaN</td>\n",
       "      <td>NaN</td>\n",
       "    </tr>\n",
       "    <tr>\n",
       "      <th>4</th>\n",
       "      <td>1/9/1981</td>\n",
       "      <td>15.20</td>\n",
       "      <td>14.30</td>\n",
       "      <td>13.539</td>\n",
       "      <td>13.28</td>\n",
       "      <td>12.884</td>\n",
       "      <td>12.572</td>\n",
       "      <td>12.132</td>\n",
       "      <td>20.572042</td>\n",
       "      <td>NaN</td>\n",
       "      <td>NaN</td>\n",
       "    </tr>\n",
       "    <tr>\n",
       "      <th>5</th>\n",
       "      <td>1/12/1981</td>\n",
       "      <td>15.22</td>\n",
       "      <td>14.23</td>\n",
       "      <td>13.179</td>\n",
       "      <td>12.94</td>\n",
       "      <td>12.714</td>\n",
       "      <td>12.452</td>\n",
       "      <td>12.082</td>\n",
       "      <td>20.142185</td>\n",
       "      <td>NaN</td>\n",
       "      <td>NaN</td>\n",
       "    </tr>\n",
       "    <tr>\n",
       "      <th>6</th>\n",
       "      <td>1/13/1981</td>\n",
       "      <td>15.24</td>\n",
       "      <td>14.10</td>\n",
       "      <td>13.309</td>\n",
       "      <td>12.97</td>\n",
       "      <td>12.684</td>\n",
       "      <td>12.532</td>\n",
       "      <td>12.082</td>\n",
       "      <td>20.181543</td>\n",
       "      <td>NaN</td>\n",
       "      <td>NaN</td>\n",
       "    </tr>\n",
       "    <tr>\n",
       "      <th>7</th>\n",
       "      <td>1/14/1981</td>\n",
       "      <td>15.08</td>\n",
       "      <td>13.90</td>\n",
       "      <td>12.959</td>\n",
       "      <td>12.75</td>\n",
       "      <td>12.614</td>\n",
       "      <td>12.532</td>\n",
       "      <td>12.072</td>\n",
       "      <td>19.777288</td>\n",
       "      <td>NaN</td>\n",
       "      <td>NaN</td>\n",
       "    </tr>\n",
       "    <tr>\n",
       "      <th>8</th>\n",
       "      <td>1/15/1981</td>\n",
       "      <td>15.25</td>\n",
       "      <td>14.09</td>\n",
       "      <td>13.259</td>\n",
       "      <td>13.02</td>\n",
       "      <td>12.774</td>\n",
       "      <td>12.622</td>\n",
       "      <td>12.252</td>\n",
       "      <td>20.298884</td>\n",
       "      <td>NaN</td>\n",
       "      <td>NaN</td>\n",
       "    </tr>\n",
       "    <tr>\n",
       "      <th>9</th>\n",
       "      <td>1/16/1981</td>\n",
       "      <td>15.15</td>\n",
       "      <td>13.98</td>\n",
       "      <td>13.089</td>\n",
       "      <td>12.85</td>\n",
       "      <td>12.664</td>\n",
       "      <td>12.532</td>\n",
       "      <td>12.132</td>\n",
       "      <td>19.967575</td>\n",
       "      <td>NaN</td>\n",
       "      <td>NaN</td>\n",
       "    </tr>\n",
       "  </tbody>\n",
       "</table>\n",
       "</div>"
      ],
      "text/plain": [
       "        Date  USGG3M  USGG6M  USGG2YR  USGG3YR  USGG5YR  USGG10YR  USGG30YR  \\\n",
       "0   1/5/1981   13.52   13.09   12.289    12.28   12.294    12.152    11.672   \n",
       "1   1/6/1981   13.58   13.16   12.429    12.31   12.214    12.112    11.672   \n",
       "2   1/7/1981   14.50   13.90   12.929    12.78   12.614    12.382    11.892   \n",
       "3   1/8/1981   14.76   14.00   13.099    12.95   12.684    12.352    11.912   \n",
       "4   1/9/1981   15.20   14.30   13.539    13.28   12.884    12.572    12.132   \n",
       "5  1/12/1981   15.22   14.23   13.179    12.94   12.714    12.452    12.082   \n",
       "6  1/13/1981   15.24   14.10   13.309    12.97   12.684    12.532    12.082   \n",
       "7  1/14/1981   15.08   13.90   12.959    12.75   12.614    12.532    12.072   \n",
       "8  1/15/1981   15.25   14.09   13.259    13.02   12.774    12.622    12.252   \n",
       "9  1/16/1981   15.15   13.98   13.089    12.85   12.664    12.532    12.132   \n",
       "\n",
       "     Output1  Easing  Tightening  \n",
       "0  18.015526     NaN         NaN  \n",
       "1  18.091398     NaN         NaN  \n",
       "2  19.447314     NaN         NaN  \n",
       "3  19.748510     NaN         NaN  \n",
       "4  20.572042     NaN         NaN  \n",
       "5  20.142185     NaN         NaN  \n",
       "6  20.181543     NaN         NaN  \n",
       "7  19.777288     NaN         NaN  \n",
       "8  20.298884     NaN         NaN  \n",
       "9  19.967575     NaN         NaN  "
      ]
     },
     "execution_count": 4,
     "metadata": {},
     "output_type": "execute_result"
    }
   ],
   "source": [
    "data.head(10)"
   ]
  },
  {
   "cell_type": "code",
   "execution_count": 5,
   "metadata": {},
   "outputs": [
    {
     "name": "stdout",
     "output_type": "stream",
     "text": [
      "data.shape: (8300, 11)\n",
      "Easing days: 1585\n",
      "Tightening days: 773\n"
     ]
    }
   ],
   "source": [
    "print('data.shape:',data.shape)\n",
    "print('Easing days:',sum(data.Easing == 1))\n",
    "print('Tightening days:',sum(data.Tightening == 1))"
   ]
  },
  {
   "cell_type": "code",
   "execution_count": 6,
   "metadata": {},
   "outputs": [
    {
     "data": {
      "image/png": "[encoded data removed]",
      "text/plain": [
       "<Figure size 432x288 with 1 Axes>"
      ]
     },
     "metadata": {},
     "output_type": "display_data"
    }
   ],
   "source": [
    "#%matplotlib inline\n",
    "X_col = [col for col in data.columns if re.match(r'^USGG',col)]\n",
    "ax = data[X_col].plot()\n",
    "ax.legend(loc='center left', bbox_to_anchor=(1, 0.5));\n",
    "plt.show()"
   ]
  },
  {
   "cell_type": "markdown",
   "metadata": {},
   "source": [
    "### Step 2. Linear Regression"
   ]
  },
  {
   "cell_type": "code",
   "execution_count": 7,
   "metadata": {},
   "outputs": [],
   "source": [
    "def LR2way(X,y,df,out=True,Notreverse=True):\n",
    "    slopes = []\n",
    "    intercepts = []\n",
    "    in_dex = []\n",
    "    for x in X:\n",
    "        if Notreverse: \n",
    "            lr = linear_model.LinearRegression().fit(df[[x]],df[y])\n",
    "            in_dex.append(y + '-->' + x)\n",
    "        else:\n",
    "            lr = linear_model.LinearRegression().fit(df[[y]],df[x])\n",
    "            in_dex.append(x + '-->' + y)\n",
    "        slopes.append(lr.coef_)\n",
    "        intercepts.append(lr.intercept_)\n",
    "    ret = pd.DataFrame({'slopes':slopes,'intercepts':intercepts},index=in_dex)\n",
    "    if out:\n",
    "        display(ret)\n",
    "    return ret"
   ]
  },
  {
   "cell_type": "markdown",
   "metadata": {},
   "source": [
    "#### Task 1. Simple Regression -- Output Against Input Variables "
   ]
  },
  {
   "cell_type": "code",
   "execution_count": 8,
   "metadata": {},
   "outputs": [
    {
     "data": {
      "text/html": [
       "<div>\n",
       "<style scoped>\n",
       "    .dataframe tbody tr th:only-of-type {\n",
       "        vertical-align: middle;\n",
       "    }\n",
       "\n",
       "    .dataframe tbody tr th {\n",
       "        vertical-align: top;\n",
       "    }\n",
       "\n",
       "    .dataframe thead th {\n",
       "        text-align: right;\n",
       "    }\n",
       "</style>\n",
       "<table border=\"1\" class=\"dataframe\">\n",
       "  <thead>\n",
       "    <tr style=\"text-align: right;\">\n",
       "      <th></th>\n",
       "      <th>slopes</th>\n",
       "      <th>intercepts</th>\n",
       "    </tr>\n",
       "  </thead>\n",
       "  <tbody>\n",
       "    <tr>\n",
       "      <th>Output1--&gt;USGG3M</th>\n",
       "      <td>[2.507560943753726]</td>\n",
       "      <td>-11.723184</td>\n",
       "    </tr>\n",
       "    <tr>\n",
       "      <th>Output1--&gt;USGG6M</th>\n",
       "      <td>[2.497234703367401]</td>\n",
       "      <td>-12.097528</td>\n",
       "    </tr>\n",
       "    <tr>\n",
       "      <th>Output1--&gt;USGG2YR</th>\n",
       "      <td>[2.4004493115970793]</td>\n",
       "      <td>-13.055775</td>\n",
       "    </tr>\n",
       "    <tr>\n",
       "      <th>Output1--&gt;USGG3YR</th>\n",
       "      <td>[2.4557926560923935]</td>\n",
       "      <td>-13.861618</td>\n",
       "    </tr>\n",
       "    <tr>\n",
       "      <th>Output1--&gt;USGG5YR</th>\n",
       "      <td>[2.568741597117223]</td>\n",
       "      <td>-15.436649</td>\n",
       "    </tr>\n",
       "    <tr>\n",
       "      <th>Output1--&gt;USGG10YR</th>\n",
       "      <td>[2.78699104908468]</td>\n",
       "      <td>-18.063370</td>\n",
       "    </tr>\n",
       "    <tr>\n",
       "      <th>Output1--&gt;USGG30YR</th>\n",
       "      <td>[3.069560862752194]</td>\n",
       "      <td>-21.085905</td>\n",
       "    </tr>\n",
       "  </tbody>\n",
       "</table>\n",
       "</div>"
      ],
      "text/plain": [
       "                                  slopes  intercepts\n",
       "Output1-->USGG3M     [2.507560943753726]  -11.723184\n",
       "Output1-->USGG6M     [2.497234703367401]  -12.097528\n",
       "Output1-->USGG2YR   [2.4004493115970793]  -13.055775\n",
       "Output1-->USGG3YR   [2.4557926560923935]  -13.861618\n",
       "Output1-->USGG5YR    [2.568741597117223]  -15.436649\n",
       "Output1-->USGG10YR    [2.78699104908468]  -18.063370\n",
       "Output1-->USGG30YR   [3.069560862752194]  -21.085905"
      ]
     },
     "metadata": {},
     "output_type": "display_data"
    }
   ],
   "source": [
    "lr1 = LR2way(X_col,'Output1',df = data)"
   ]
  },
  {
   "cell_type": "markdown",
   "metadata": {},
   "source": [
    "#### Task 2. Simple Regression -- Input Against Output Variables "
   ]
  },
  {
   "cell_type": "code",
   "execution_count": 9,
   "metadata": {},
   "outputs": [
    {
     "data": {
      "text/html": [
       "<div>\n",
       "<style scoped>\n",
       "    .dataframe tbody tr th:only-of-type {\n",
       "        vertical-align: middle;\n",
       "    }\n",
       "\n",
       "    .dataframe tbody tr th {\n",
       "        vertical-align: top;\n",
       "    }\n",
       "\n",
       "    .dataframe thead th {\n",
       "        text-align: right;\n",
       "    }\n",
       "</style>\n",
       "<table border=\"1\" class=\"dataframe\">\n",
       "  <thead>\n",
       "    <tr style=\"text-align: right;\">\n",
       "      <th></th>\n",
       "      <th>slopes</th>\n",
       "      <th>intercepts</th>\n",
       "    </tr>\n",
       "  </thead>\n",
       "  <tbody>\n",
       "    <tr>\n",
       "      <th>USGG3M--&gt;Output1</th>\n",
       "      <td>[0.38396090122797477]</td>\n",
       "      <td>4.675134</td>\n",
       "    </tr>\n",
       "    <tr>\n",
       "      <th>USGG6M--&gt;Output1</th>\n",
       "      <td>[0.39018695732704467]</td>\n",
       "      <td>4.844370</td>\n",
       "    </tr>\n",
       "    <tr>\n",
       "      <th>USGG2YR--&gt;Output1</th>\n",
       "      <td>[0.4151850590250118]</td>\n",
       "      <td>5.438888</td>\n",
       "    </tr>\n",
       "    <tr>\n",
       "      <th>USGG3YR--&gt;Output1</th>\n",
       "      <td>[0.4063541363030714]</td>\n",
       "      <td>5.644458</td>\n",
       "    </tr>\n",
       "    <tr>\n",
       "      <th>USGG5YR--&gt;Output1</th>\n",
       "      <td>[0.3860609575416489]</td>\n",
       "      <td>6.009421</td>\n",
       "    </tr>\n",
       "    <tr>\n",
       "      <th>USGG10YR--&gt;Output1</th>\n",
       "      <td>[0.3477544024577948]</td>\n",
       "      <td>6.481316</td>\n",
       "    </tr>\n",
       "    <tr>\n",
       "      <th>USGG30YR--&gt;Output1</th>\n",
       "      <td>[0.30471242175249547]</td>\n",
       "      <td>6.869355</td>\n",
       "    </tr>\n",
       "  </tbody>\n",
       "</table>\n",
       "</div>"
      ],
      "text/plain": [
       "                                   slopes  intercepts\n",
       "USGG3M-->Output1    [0.38396090122797477]    4.675134\n",
       "USGG6M-->Output1    [0.39018695732704467]    4.844370\n",
       "USGG2YR-->Output1    [0.4151850590250118]    5.438888\n",
       "USGG3YR-->Output1    [0.4063541363030714]    5.644458\n",
       "USGG5YR-->Output1    [0.3860609575416489]    6.009421\n",
       "USGG10YR-->Output1   [0.3477544024577948]    6.481316\n",
       "USGG30YR-->Output1  [0.30471242175249547]    6.869355"
      ]
     },
     "metadata": {},
     "output_type": "display_data"
    }
   ],
   "source": [
    "lr2 = LR2way(X_col,'Output1',df = data,Notreverse=False)"
   ]
  },
  {
   "cell_type": "markdown",
   "metadata": {},
   "source": [
    "### Step 3. Logistic Regression"
   ]
  },
  {
   "cell_type": "markdown",
   "metadata": {},
   "source": [
    "####  Prepare the easing-tightening data."
   ]
  },
  {
   "cell_type": "code",
   "execution_count": 10,
   "metadata": {},
   "outputs": [
    {
     "name": "stderr",
     "output_type": "stream",
     "text": [
      "/anaconda3/lib/python3.6/site-packages/ipykernel_launcher.py:2: SettingWithCopyWarning: \n",
      "A value is trying to be set on a copy of a slice from a DataFrame\n",
      "\n",
      "See the caveats in the documentation: http://pandas.pydata.org/pandas-docs/stable/indexing.html#indexing-view-versus-copy\n",
      "  \n",
      "/anaconda3/lib/python3.6/site-packages/ipykernel_launcher.py:3: SettingWithCopyWarning: \n",
      "A value is trying to be set on a copy of a slice from a DataFrame\n",
      "\n",
      "See the caveats in the documentation: http://pandas.pydata.org/pandas-docs/stable/indexing.html#indexing-view-versus-copy\n",
      "  This is separate from the ipykernel package so we can avoid doing imports until\n"
     ]
    }
   ],
   "source": [
    "data['Binary_Output'] = np.nan\n",
    "data.Binary_Output[data.Easing == 1] = 0\n",
    "data.Binary_Output[data.Tightening == 1] = 1"
   ]
  },
  {
   "cell_type": "code",
   "execution_count": 11,
   "metadata": {},
   "outputs": [
    {
     "name": "stdout",
     "output_type": "stream",
     "text": [
      "NAs in Binary_Output: 5942\n"
     ]
    }
   ],
   "source": [
    "print('NAs in Binary_Output:', sum(np.isnan(data.Binary_Output)))"
   ]
  },
  {
   "cell_type": "code",
   "execution_count": 11,
   "metadata": {},
   "outputs": [
    {
     "name": "stdout",
     "output_type": "stream",
     "text": [
      "logit_data shape: (2358, 12)\n"
     ]
    },
    {
     "data": {
      "text/html": [
       "<div>\n",
       "<style scoped>\n",
       "    .dataframe tbody tr th:only-of-type {\n",
       "        vertical-align: middle;\n",
       "    }\n",
       "\n",
       "    .dataframe tbody tr th {\n",
       "        vertical-align: top;\n",
       "    }\n",
       "\n",
       "    .dataframe thead th {\n",
       "        text-align: right;\n",
       "    }\n",
       "</style>\n",
       "<table border=\"1\" class=\"dataframe\">\n",
       "  <thead>\n",
       "    <tr style=\"text-align: right;\">\n",
       "      <th></th>\n",
       "      <th>Date</th>\n",
       "      <th>USGG3M</th>\n",
       "      <th>USGG6M</th>\n",
       "      <th>USGG2YR</th>\n",
       "      <th>USGG3YR</th>\n",
       "      <th>USGG5YR</th>\n",
       "      <th>USGG10YR</th>\n",
       "      <th>USGG30YR</th>\n",
       "      <th>Output1</th>\n",
       "      <th>Easing</th>\n",
       "      <th>Tightening</th>\n",
       "      <th>Binary_Output</th>\n",
       "    </tr>\n",
       "  </thead>\n",
       "  <tbody>\n",
       "    <tr>\n",
       "      <th>0</th>\n",
       "      <td>11/2/1981</td>\n",
       "      <td>12.69</td>\n",
       "      <td>12.87</td>\n",
       "      <td>14.119</td>\n",
       "      <td>14.44</td>\n",
       "      <td>14.614</td>\n",
       "      <td>14.572</td>\n",
       "      <td>14.412</td>\n",
       "      <td>21.820650</td>\n",
       "      <td>1.0</td>\n",
       "      <td>NaN</td>\n",
       "      <td>0.0</td>\n",
       "    </tr>\n",
       "    <tr>\n",
       "      <th>1</th>\n",
       "      <td>11/4/1981</td>\n",
       "      <td>12.30</td>\n",
       "      <td>12.50</td>\n",
       "      <td>14.119</td>\n",
       "      <td>14.13</td>\n",
       "      <td>14.324</td>\n",
       "      <td>14.182</td>\n",
       "      <td>13.962</td>\n",
       "      <td>21.015864</td>\n",
       "      <td>1.0</td>\n",
       "      <td>NaN</td>\n",
       "      <td>0.0</td>\n",
       "    </tr>\n",
       "    <tr>\n",
       "      <th>2</th>\n",
       "      <td>11/5/1981</td>\n",
       "      <td>12.18</td>\n",
       "      <td>12.59</td>\n",
       "      <td>14.209</td>\n",
       "      <td>14.23</td>\n",
       "      <td>14.434</td>\n",
       "      <td>14.192</td>\n",
       "      <td>14.062</td>\n",
       "      <td>21.159323</td>\n",
       "      <td>1.0</td>\n",
       "      <td>NaN</td>\n",
       "      <td>0.0</td>\n",
       "    </tr>\n",
       "    <tr>\n",
       "      <th>3</th>\n",
       "      <td>11/6/1981</td>\n",
       "      <td>11.68</td>\n",
       "      <td>12.20</td>\n",
       "      <td>13.869</td>\n",
       "      <td>13.88</td>\n",
       "      <td>14.074</td>\n",
       "      <td>13.942</td>\n",
       "      <td>13.852</td>\n",
       "      <td>20.241872</td>\n",
       "      <td>1.0</td>\n",
       "      <td>NaN</td>\n",
       "      <td>0.0</td>\n",
       "    </tr>\n",
       "    <tr>\n",
       "      <th>4</th>\n",
       "      <td>11/9/1981</td>\n",
       "      <td>11.19</td>\n",
       "      <td>11.63</td>\n",
       "      <td>13.179</td>\n",
       "      <td>13.25</td>\n",
       "      <td>13.544</td>\n",
       "      <td>13.392</td>\n",
       "      <td>13.562</td>\n",
       "      <td>18.804600</td>\n",
       "      <td>1.0</td>\n",
       "      <td>NaN</td>\n",
       "      <td>0.0</td>\n",
       "    </tr>\n",
       "    <tr>\n",
       "      <th>5</th>\n",
       "      <td>11/10/1981</td>\n",
       "      <td>11.15</td>\n",
       "      <td>11.57</td>\n",
       "      <td>13.229</td>\n",
       "      <td>13.23</td>\n",
       "      <td>13.634</td>\n",
       "      <td>13.402</td>\n",
       "      <td>13.552</td>\n",
       "      <td>18.813639</td>\n",
       "      <td>1.0</td>\n",
       "      <td>NaN</td>\n",
       "      <td>0.0</td>\n",
       "    </tr>\n",
       "    <tr>\n",
       "      <th>6</th>\n",
       "      <td>11/12/1981</td>\n",
       "      <td>10.60</td>\n",
       "      <td>11.25</td>\n",
       "      <td>12.779</td>\n",
       "      <td>12.85</td>\n",
       "      <td>13.234</td>\n",
       "      <td>13.192</td>\n",
       "      <td>13.212</td>\n",
       "      <td>17.805298</td>\n",
       "      <td>1.0</td>\n",
       "      <td>NaN</td>\n",
       "      <td>0.0</td>\n",
       "    </tr>\n",
       "    <tr>\n",
       "      <th>7</th>\n",
       "      <td>11/13/1981</td>\n",
       "      <td>10.78</td>\n",
       "      <td>11.31</td>\n",
       "      <td>12.839</td>\n",
       "      <td>12.93</td>\n",
       "      <td>13.314</td>\n",
       "      <td>13.182</td>\n",
       "      <td>13.262</td>\n",
       "      <td>17.997884</td>\n",
       "      <td>1.0</td>\n",
       "      <td>NaN</td>\n",
       "      <td>0.0</td>\n",
       "    </tr>\n",
       "    <tr>\n",
       "      <th>8</th>\n",
       "      <td>11/16/1981</td>\n",
       "      <td>10.63</td>\n",
       "      <td>11.10</td>\n",
       "      <td>12.699</td>\n",
       "      <td>12.79</td>\n",
       "      <td>13.214</td>\n",
       "      <td>13.072</td>\n",
       "      <td>13.112</td>\n",
       "      <td>17.620769</td>\n",
       "      <td>1.0</td>\n",
       "      <td>NaN</td>\n",
       "      <td>0.0</td>\n",
       "    </tr>\n",
       "    <tr>\n",
       "      <th>9</th>\n",
       "      <td>11/17/1981</td>\n",
       "      <td>10.63</td>\n",
       "      <td>11.08</td>\n",
       "      <td>12.719</td>\n",
       "      <td>12.85</td>\n",
       "      <td>13.214</td>\n",
       "      <td>13.182</td>\n",
       "      <td>13.252</td>\n",
       "      <td>17.726563</td>\n",
       "      <td>1.0</td>\n",
       "      <td>NaN</td>\n",
       "      <td>0.0</td>\n",
       "    </tr>\n",
       "  </tbody>\n",
       "</table>\n",
       "</div>"
      ],
      "text/plain": [
       "         Date  USGG3M  USGG6M  USGG2YR  USGG3YR  USGG5YR  USGG10YR  USGG30YR  \\\n",
       "0   11/2/1981   12.69   12.87   14.119    14.44   14.614    14.572    14.412   \n",
       "1   11/4/1981   12.30   12.50   14.119    14.13   14.324    14.182    13.962   \n",
       "2   11/5/1981   12.18   12.59   14.209    14.23   14.434    14.192    14.062   \n",
       "3   11/6/1981   11.68   12.20   13.869    13.88   14.074    13.942    13.852   \n",
       "4   11/9/1981   11.19   11.63   13.179    13.25   13.544    13.392    13.562   \n",
       "5  11/10/1981   11.15   11.57   13.229    13.23   13.634    13.402    13.552   \n",
       "6  11/12/1981   10.60   11.25   12.779    12.85   13.234    13.192    13.212   \n",
       "7  11/13/1981   10.78   11.31   12.839    12.93   13.314    13.182    13.262   \n",
       "8  11/16/1981   10.63   11.10   12.699    12.79   13.214    13.072    13.112   \n",
       "9  11/17/1981   10.63   11.08   12.719    12.85   13.214    13.182    13.252   \n",
       "\n",
       "     Output1  Easing  Tightening  Binary_Output  \n",
       "0  21.820650     1.0         NaN            0.0  \n",
       "1  21.015864     1.0         NaN            0.0  \n",
       "2  21.159323     1.0         NaN            0.0  \n",
       "3  20.241872     1.0         NaN            0.0  \n",
       "4  18.804600     1.0         NaN            0.0  \n",
       "5  18.813639     1.0         NaN            0.0  \n",
       "6  17.805298     1.0         NaN            0.0  \n",
       "7  17.997884     1.0         NaN            0.0  \n",
       "8  17.620769     1.0         NaN            0.0  \n",
       "9  17.726563     1.0         NaN            0.0  "
      ]
     },
     "execution_count": 11,
     "metadata": {},
     "output_type": "execute_result"
    }
   ],
   "source": [
    "logit_data = data[pd.notnull(data.Binary_Output)]\n",
    "logit_data.index = np.arange(len(logit_data))\n",
    "print('logit_data shape:',logit_data.shape)\n",
    "logit_data.head(10)"
   ]
  },
  {
   "cell_type": "markdown",
   "metadata": {},
   "source": [
    "#### Task . plot data & run logistic regression on 'USGG3M' & all predictors"
   ]
  },
  {
   "cell_type": "code",
   "execution_count": 12,
   "metadata": {},
   "outputs": [
    {
     "name": "stderr",
     "output_type": "stream",
     "text": [
      "/anaconda3/lib/python3.6/site-packages/sklearn/linear_model/logistic.py:432: FutureWarning: Default solver will be changed to 'lbfgs' in 0.22. Specify a solver to silence this warning.\n",
      "  FutureWarning)\n",
      "/anaconda3/lib/python3.6/site-packages/sklearn/linear_model/logistic.py:432: FutureWarning: Default solver will be changed to 'lbfgs' in 0.22. Specify a solver to silence this warning.\n",
      "  FutureWarning)\n"
     ]
    }
   ],
   "source": [
    "logit1 = linear_model.LogisticRegression().fit(logit_data[['USGG3M']],logit_data.Binary_Output)\n",
    "logit2 = linear_model.LogisticRegression().fit(logit_data[X_col],logit_data.Binary_Output)"
   ]
  },
  {
   "cell_type": "code",
   "execution_count": 13,
   "metadata": {},
   "outputs": [],
   "source": [
    "probs1 = logit1.predict_proba(logit_data[['USGG3M']])\n",
    "probs2 = logit2.predict_proba(logit_data[X_col])"
   ]
  },
  {
   "cell_type": "code",
   "execution_count": 14,
   "metadata": {},
   "outputs": [
    {
     "name": "stdout",
     "output_type": "stream",
     "text": [
      "[[0.45516287 0.54483713]\n",
      " [0.47250538 0.52749462]\n",
      " [0.47785688 0.52214312]\n",
      " [0.50019561 0.49980439]\n",
      " [0.52208739 0.47791261]]\n",
      "[[0.69936635 0.30063365]\n",
      " [0.64002689 0.35997311]\n",
      " [0.49756229 0.50243771]\n",
      " [0.3899371  0.6100629 ]\n",
      " [0.40744327 0.59255673]]\n"
     ]
    }
   ],
   "source": [
    "print(probs1[0:5])\n",
    "print(probs2[0:5])"
   ]
  },
  {
   "cell_type": "code",
   "execution_count": 15,
   "metadata": {},
   "outputs": [
    {
     "data": {
      "image/png": "[encoded data removed]",
      "text/plain": [
       "<Figure size 432x288 with 1 Axes>"
      ]
     },
     "metadata": {},
     "output_type": "display_data"
    }
   ],
   "source": [
    "ax = logit_data[X_col].plot()\n",
    "plt.plot(20*logit_data.Binary_Output)\n",
    "plt.plot(logit_data.Output1,'r-',label = 'Output1')\n",
    "ax.legend(loc='center left', bbox_to_anchor=(1, 0.5));\n",
    "plt.show()"
   ]
  },
  {
   "cell_type": "markdown",
   "metadata": {},
   "source": [
    "### Step 4. PCA"
   ]
  },
  {
   "cell_type": "markdown",
   "metadata": {},
   "source": [
    "#### Task 1. correlation of the set of 3M, 2Y and 5Y yields"
   ]
  },
  {
   "cell_type": "code",
   "execution_count": 16,
   "metadata": {},
   "outputs": [
    {
     "data": {
      "text/html": [
       "<div>\n",
       "<style scoped>\n",
       "    .dataframe tbody tr th:only-of-type {\n",
       "        vertical-align: middle;\n",
       "    }\n",
       "\n",
       "    .dataframe tbody tr th {\n",
       "        vertical-align: top;\n",
       "    }\n",
       "\n",
       "    .dataframe thead th {\n",
       "        text-align: right;\n",
       "    }\n",
       "</style>\n",
       "<table border=\"1\" class=\"dataframe\">\n",
       "  <thead>\n",
       "    <tr style=\"text-align: right;\">\n",
       "      <th></th>\n",
       "      <th>USGG3M</th>\n",
       "      <th>USGG2YR</th>\n",
       "      <th>USGG5YR</th>\n",
       "    </tr>\n",
       "  </thead>\n",
       "  <tbody>\n",
       "    <tr>\n",
       "      <th>USGG3M</th>\n",
       "      <td>1.000000</td>\n",
       "      <td>0.984314</td>\n",
       "      <td>0.960315</td>\n",
       "    </tr>\n",
       "    <tr>\n",
       "      <th>USGG2YR</th>\n",
       "      <td>0.984314</td>\n",
       "      <td>1.000000</td>\n",
       "      <td>0.991637</td>\n",
       "    </tr>\n",
       "    <tr>\n",
       "      <th>USGG5YR</th>\n",
       "      <td>0.960315</td>\n",
       "      <td>0.991637</td>\n",
       "      <td>1.000000</td>\n",
       "    </tr>\n",
       "  </tbody>\n",
       "</table>\n",
       "</div>"
      ],
      "text/plain": [
       "           USGG3M   USGG2YR   USGG5YR\n",
       "USGG3M   1.000000  0.984314  0.960315\n",
       "USGG2YR  0.984314  1.000000  0.991637\n",
       "USGG5YR  0.960315  0.991637  1.000000"
      ]
     },
     "execution_count": 16,
     "metadata": {},
     "output_type": "execute_result"
    }
   ],
   "source": [
    "corrmat = data[['USGG3M','USGG2YR','USGG5YR']].corr()\n",
    "corrmat"
   ]
  },
  {
   "cell_type": "code",
   "execution_count": 17,
   "metadata": {},
   "outputs": [],
   "source": [
    "#sns.heatmap(corrmat, vmax=1., square=False).xaxis.tick_top()"
   ]
  },
  {
   "cell_type": "markdown",
   "metadata": {},
   "source": [
    "#### Task 2. Analyze the covariance matrix of the data"
   ]
  },
  {
   "cell_type": "code",
   "execution_count": 18,
   "metadata": {},
   "outputs": [
    {
     "data": {
      "text/html": [
       "<div>\n",
       "<style scoped>\n",
       "    .dataframe tbody tr th:only-of-type {\n",
       "        vertical-align: middle;\n",
       "    }\n",
       "\n",
       "    .dataframe tbody tr th {\n",
       "        vertical-align: top;\n",
       "    }\n",
       "\n",
       "    .dataframe thead th {\n",
       "        text-align: right;\n",
       "    }\n",
       "</style>\n",
       "<table border=\"1\" class=\"dataframe\">\n",
       "  <thead>\n",
       "    <tr style=\"text-align: right;\">\n",
       "      <th></th>\n",
       "      <th>USGG3M</th>\n",
       "      <th>USGG6M</th>\n",
       "      <th>USGG2YR</th>\n",
       "      <th>USGG3YR</th>\n",
       "      <th>USGG5YR</th>\n",
       "      <th>USGG10YR</th>\n",
       "      <th>USGG30YR</th>\n",
       "    </tr>\n",
       "  </thead>\n",
       "  <tbody>\n",
       "    <tr>\n",
       "      <th>USGG3M</th>\n",
       "      <td>11.760393</td>\n",
       "      <td>11.855287</td>\n",
       "      <td>12.303031</td>\n",
       "      <td>11.942035</td>\n",
       "      <td>11.188856</td>\n",
       "      <td>9.924865</td>\n",
       "      <td>8.587987</td>\n",
       "    </tr>\n",
       "    <tr>\n",
       "      <th>USGG6M</th>\n",
       "      <td>11.855287</td>\n",
       "      <td>12.000510</td>\n",
       "      <td>12.512434</td>\n",
       "      <td>12.158422</td>\n",
       "      <td>11.406959</td>\n",
       "      <td>10.128890</td>\n",
       "      <td>8.768702</td>\n",
       "    </tr>\n",
       "    <tr>\n",
       "      <th>USGG2YR</th>\n",
       "      <td>12.303031</td>\n",
       "      <td>12.512434</td>\n",
       "      <td>13.284203</td>\n",
       "      <td>12.977542</td>\n",
       "      <td>12.279514</td>\n",
       "      <td>11.005377</td>\n",
       "      <td>9.600181</td>\n",
       "    </tr>\n",
       "    <tr>\n",
       "      <th>USGG3YR</th>\n",
       "      <td>11.942035</td>\n",
       "      <td>12.158422</td>\n",
       "      <td>12.977542</td>\n",
       "      <td>12.708647</td>\n",
       "      <td>12.068078</td>\n",
       "      <td>10.856033</td>\n",
       "      <td>9.497246</td>\n",
       "    </tr>\n",
       "    <tr>\n",
       "      <th>USGG5YR</th>\n",
       "      <td>11.188856</td>\n",
       "      <td>11.406959</td>\n",
       "      <td>12.279514</td>\n",
       "      <td>12.068078</td>\n",
       "      <td>11.543082</td>\n",
       "      <td>10.463386</td>\n",
       "      <td>9.212159</td>\n",
       "    </tr>\n",
       "    <tr>\n",
       "      <th>USGG10YR</th>\n",
       "      <td>9.924865</td>\n",
       "      <td>10.128890</td>\n",
       "      <td>11.005377</td>\n",
       "      <td>10.856033</td>\n",
       "      <td>10.463386</td>\n",
       "      <td>9.583483</td>\n",
       "      <td>8.510632</td>\n",
       "    </tr>\n",
       "    <tr>\n",
       "      <th>USGG30YR</th>\n",
       "      <td>8.587987</td>\n",
       "      <td>8.768702</td>\n",
       "      <td>9.600181</td>\n",
       "      <td>9.497246</td>\n",
       "      <td>9.212159</td>\n",
       "      <td>8.510632</td>\n",
       "      <td>7.624304</td>\n",
       "    </tr>\n",
       "  </tbody>\n",
       "</table>\n",
       "</div>"
      ],
      "text/plain": [
       "             USGG3M     USGG6M    USGG2YR    USGG3YR    USGG5YR   USGG10YR  \\\n",
       "USGG3M    11.760393  11.855287  12.303031  11.942035  11.188856   9.924865   \n",
       "USGG6M    11.855287  12.000510  12.512434  12.158422  11.406959  10.128890   \n",
       "USGG2YR   12.303031  12.512434  13.284203  12.977542  12.279514  11.005377   \n",
       "USGG3YR   11.942035  12.158422  12.977542  12.708647  12.068078  10.856033   \n",
       "USGG5YR   11.188856  11.406959  12.279514  12.068078  11.543082  10.463386   \n",
       "USGG10YR   9.924865  10.128890  11.005377  10.856033  10.463386   9.583483   \n",
       "USGG30YR   8.587987   8.768702   9.600181   9.497246   9.212159   8.510632   \n",
       "\n",
       "          USGG30YR  \n",
       "USGG3M    8.587987  \n",
       "USGG6M    8.768702  \n",
       "USGG2YR   9.600181  \n",
       "USGG3YR   9.497246  \n",
       "USGG5YR   9.212159  \n",
       "USGG10YR  8.510632  \n",
       "USGG30YR  7.624304  "
      ]
     },
     "execution_count": 18,
     "metadata": {},
     "output_type": "execute_result"
    }
   ],
   "source": [
    "covmat = data[X_col].cov()\n",
    "covmat"
   ]
  },
  {
   "cell_type": "markdown",
   "metadata": {},
   "source": [
    "#### Task 3. Perform PCA manually"
   ]
  },
  {
   "cell_type": "code",
   "execution_count": 19,
   "metadata": {},
   "outputs": [],
   "source": [
    "standardisedX = scale(data[X_col])\n",
    "standardisedX = pd.DataFrame(standardisedX, index=data.index, columns=X_col)"
   ]
  },
  {
   "cell_type": "code",
   "execution_count": 20,
   "metadata": {},
   "outputs": [
    {
     "data": {
      "text/html": [
       "<div>\n",
       "<style scoped>\n",
       "    .dataframe tbody tr th:only-of-type {\n",
       "        vertical-align: middle;\n",
       "    }\n",
       "\n",
       "    .dataframe tbody tr th {\n",
       "        vertical-align: top;\n",
       "    }\n",
       "\n",
       "    .dataframe thead th {\n",
       "        text-align: right;\n",
       "    }\n",
       "</style>\n",
       "<table border=\"1\" class=\"dataframe\">\n",
       "  <thead>\n",
       "    <tr style=\"text-align: right;\">\n",
       "      <th></th>\n",
       "      <th>USGG3M</th>\n",
       "      <th>USGG6M</th>\n",
       "      <th>USGG2YR</th>\n",
       "      <th>USGG3YR</th>\n",
       "      <th>USGG5YR</th>\n",
       "      <th>USGG10YR</th>\n",
       "      <th>USGG30YR</th>\n",
       "    </tr>\n",
       "  </thead>\n",
       "  <tbody>\n",
       "    <tr>\n",
       "      <th>0</th>\n",
       "      <td>2.579328</td>\n",
       "      <td>2.380401</td>\n",
       "      <td>1.879560</td>\n",
       "      <td>1.861457</td>\n",
       "      <td>1.849871</td>\n",
       "      <td>1.831892</td>\n",
       "      <td>1.739428</td>\n",
       "    </tr>\n",
       "    <tr>\n",
       "      <th>1</th>\n",
       "      <td>2.596825</td>\n",
       "      <td>2.400609</td>\n",
       "      <td>1.917973</td>\n",
       "      <td>1.869872</td>\n",
       "      <td>1.826323</td>\n",
       "      <td>1.818970</td>\n",
       "      <td>1.739428</td>\n",
       "    </tr>\n",
       "    <tr>\n",
       "      <th>2</th>\n",
       "      <td>2.865114</td>\n",
       "      <td>2.614237</td>\n",
       "      <td>2.055165</td>\n",
       "      <td>2.001721</td>\n",
       "      <td>1.944063</td>\n",
       "      <td>1.906193</td>\n",
       "      <td>1.819108</td>\n",
       "    </tr>\n",
       "    <tr>\n",
       "      <th>3</th>\n",
       "      <td>2.940935</td>\n",
       "      <td>2.643106</td>\n",
       "      <td>2.101810</td>\n",
       "      <td>2.049410</td>\n",
       "      <td>1.964668</td>\n",
       "      <td>1.896501</td>\n",
       "      <td>1.826352</td>\n",
       "    </tr>\n",
       "    <tr>\n",
       "      <th>4</th>\n",
       "      <td>3.069247</td>\n",
       "      <td>2.729712</td>\n",
       "      <td>2.222539</td>\n",
       "      <td>2.141985</td>\n",
       "      <td>2.023538</td>\n",
       "      <td>1.967572</td>\n",
       "      <td>1.906032</td>\n",
       "    </tr>\n",
       "  </tbody>\n",
       "</table>\n",
       "</div>"
      ],
      "text/plain": [
       "     USGG3M    USGG6M   USGG2YR   USGG3YR   USGG5YR  USGG10YR  USGG30YR\n",
       "0  2.579328  2.380401  1.879560  1.861457  1.849871  1.831892  1.739428\n",
       "1  2.596825  2.400609  1.917973  1.869872  1.826323  1.818970  1.739428\n",
       "2  2.865114  2.614237  2.055165  2.001721  1.944063  1.906193  1.819108\n",
       "3  2.940935  2.643106  2.101810  2.049410  1.964668  1.896501  1.826352\n",
       "4  3.069247  2.729712  2.222539  2.141985  2.023538  1.967572  1.906032"
      ]
     },
     "execution_count": 20,
     "metadata": {},
     "output_type": "execute_result"
    }
   ],
   "source": [
    "standardisedX.head(5)"
   ]
  },
  {
   "cell_type": "code",
   "execution_count": 21,
   "metadata": {},
   "outputs": [
    {
     "data": {
      "text/plain": [
       "array([ 5.33464166,  5.35280333,  5.7438603 , ..., -3.48714976,\n",
       "       -3.49353631, -3.50782993])"
      ]
     },
     "execution_count": 21,
     "metadata": {},
     "output_type": "execute_result"
    }
   ],
   "source": [
    "## 1. Covariance matrix\n",
    "covmat = standardisedX.cov()\n",
    "\n",
    "## 2. Eigen values and Eigen vectors. \n",
    "##    Loadings are eigen vectors and eigen values represent the importance\n",
    "eig_val,eig_vec = np.linalg.eig(covmat)\n",
    "\n",
    "## 3. calculate principal components\n",
    "def calcpc(variables, loadings):\n",
    "    # find the number of samples in the data set and the number of variables \n",
    "    numsamples, numvariables = variables.shape\n",
    "    # make a vector to store the component\n",
    "    pc = np.zeros(numsamples)\n",
    "    # calculate the value of the component for each sample\n",
    "    for i in range(numsamples):\n",
    "        valuei = 0\n",
    "        for j in range(numvariables):\n",
    "            valueij = variables.iloc[i, j]\n",
    "            loadingj = loadings[j]\n",
    "            valuei = valuei + (valueij * loadingj) \n",
    "        pc[i] = valuei\n",
    "    return pc\n",
    "\n",
    "# calculate first principal component...\n",
    "pc1 = calcpc(standardisedX, eig_vec[:,0])\n",
    "pc1\n",
    "# the same process to get pc2,pc3"
   ]
  },
  {
   "cell_type": "code",
   "execution_count": 22,
   "metadata": {},
   "outputs": [],
   "source": [
    "#print(eig_val,eig_vec)"
   ]
  },
  {
   "cell_type": "code",
   "execution_count": 23,
   "metadata": {},
   "outputs": [
    {
     "name": "stdout",
     "output_type": "stream",
     "text": [
      "            USGG3M    USGG6M   USGG2YR   USGG3YR   USGG5YR  USGG10YR  USGG30YR\n",
      "USGG3M    1.000120  0.998053  0.984432  0.976945  0.960431  0.934984  0.907053\n",
      "USGG6M    0.998053  1.000120  0.991121  0.984646  0.969307  0.944610  0.916828\n",
      "USGG2YR   0.984432  0.991121  1.000120  0.998912  0.991756  0.975501  0.954034\n",
      "USGG3YR   0.976945  0.984646  0.998912  1.000120  0.996506  0.983812  0.964940\n",
      "USGG5YR   0.960431  0.969307  0.991756  0.996506  1.000120  0.994952  0.982093\n",
      "USGG10YR  0.934984  0.944610  0.975501  0.983812  0.994952  1.000120  0.995755\n",
      "USGG30YR  0.907053  0.916828  0.954034  0.964940  0.982093  0.995755  1.000120\n"
     ]
    }
   ],
   "source": [
    "print(covmat)"
   ]
  },
  {
   "cell_type": "code",
   "execution_count": 24,
   "metadata": {},
   "outputs": [
    {
     "data": {
      "image/png": "[encoded data removed]",
      "text/plain": [
       "<Figure size 432x288 with 1 Axes>"
      ]
     },
     "metadata": {},
     "output_type": "display_data"
    }
   ],
   "source": [
    "## 4. Display the importance of the factors\n",
    "ratio = eig_val/sum(eig_val)\n",
    "x = np.arange(7) + 1\n",
    "plt.bar(x,height=ratio)\n",
    "plt.xticks(x, ['F' + str(i) for i in x])\n",
    "plt.title('Importance of principal components')\n",
    "plt.show()\n",
    "#print(ratio)"
   ]
  },
  {
   "cell_type": "code",
   "execution_count": 25,
   "metadata": {},
   "outputs": [
    {
     "data": {
      "image/png": "[encoded data removed]",
      "text/plain": [
       "<Figure size 432x288 with 1 Axes>"
      ]
     },
     "metadata": {},
     "output_type": "display_data"
    }
   ],
   "source": [
    "x = [0.25,0.5,2,3,5,10,30]\n",
    "plt.plot(x,eig_vec[:,0])\n",
    "plt.plot(x,eig_vec[:,1])\n",
    "plt.plot(x,eig_vec[:,2])\n",
    "plt.show()"
   ]
  },
  {
   "cell_type": "markdown",
   "metadata": {},
   "source": [
    "Point(X,Y) stands for the coefficients for 7 different features when calculating principal components.   "
   ]
  },
  {
   "cell_type": "markdown",
   "metadata": {},
   "source": [
    "#### Task 4. Interpret the factors by looking at the shapes of the loadings"
   ]
  },
  {
   "cell_type": "markdown",
   "metadata": {},
   "source": [
    "#### Task 5. Perform the PCA by using the library sklearn"
   ]
  },
  {
   "cell_type": "markdown",
   "metadata": {},
   "source": [
    "Please follow session 2 workshop file and the flow is pretty clear."
   ]
  },
  {
   "cell_type": "code",
   "execution_count": null,
   "metadata": {},
   "outputs": [],
   "source": []
  }
 ],
 "metadata": {
  "kernelspec": {
   "display_name": "Python 3",
   "language": "python",
   "name": "python3"
  },
  "language_info": {
   "codemirror_mode": {
    "name": "ipython",
    "version": 3
   },
   "file_extension": ".py",
   "mimetype": "text/x-python",
   "name": "python",
   "nbconvert_exporter": "python",
   "pygments_lexer": "ipython3",
   "version": "3.6.8"
  },
  "toc": {
   "base_numbering": 1,
   "nav_menu": {},
   "number_sections": true,
   "sideBar": true,
   "skip_h1_title": false,
   "title_cell": "Table of Contents",
   "title_sidebar": "Contents",
   "toc_cell": false,
   "toc_position": {},
   "toc_section_display": true,
   "toc_window_display": false
  }
 },
 "nbformat": 4,
 "nbformat_minor": 2
}
