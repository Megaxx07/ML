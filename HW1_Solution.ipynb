{
 "cells": [
  {
   "cell_type": "markdown",
   "metadata": {},
   "source": [
    "# HW1 Solution Write-up"
   ]
  },
  {
   "cell_type": "code",
   "execution_count": 1,
   "metadata": {},
   "outputs": [],
   "source": [
    "import numpy as np\n",
    "import pandas as pd\n",
    "import statsmodels.api as sm\n",
    "import matplotlib.pyplot as plt\n",
    "# from sklearn import linear_model\n",
    "# from sklearn.metrics import mean_squared_error, r2_score"
   ]
  },
  {
   "cell_type": "markdown",
   "metadata": {},
   "source": [
    "### Q1. Simulate Data"
   ]
  },
  {
   "cell_type": "code",
   "execution_count": 3,
   "metadata": {},
   "outputs": [
    {
     "name": "stdout",
     "output_type": "stream",
     "text": [
      "(500, 499)\n"
     ]
    }
   ],
   "source": [
    "np.random.seed(6996)\n",
    "\n",
    "# error term\n",
    "epsilon_vec = np.random.normal(0,1,500).reshape(500,1)\n",
    "# X_matrix or regressors or predictiors \n",
    "X_mat = np.random.normal(0,2,size = (500,500))\n",
    "# Slope\n",
    "slope_vec = np.random.uniform(1,5,500)\n",
    "# Simulate Ys\n",
    "Y_mat = 1 + np.cumsum(X_mat * slope_vec,axis=1)[:,1:] + epsilon_vec\n",
    "# each col of Y_mat representing one simulation vector: starting with 2 regressors, end with 500\n",
    "print(Y_mat.shape)\n"
   ]
  },
  {
   "cell_type": "code",
   "execution_count": 12,
   "metadata": {},
   "outputs": [
    {
     "data": {
      "text/plain": [
       "array([[ 1.00987688e+00, -1.23928302e+01, -2.52348083e+01, ...,\n",
       "        -9.40828736e+01, -8.94859754e+01, -9.41810407e+01],\n",
       "       [-9.39086099e-01, -4.55984426e+00,  2.47910006e+00, ...,\n",
       "         4.01843551e+01,  2.67192369e+01,  2.99347410e+01],\n",
       "       [ 5.67395961e+00,  4.85111843e+00, -4.22952948e+00, ...,\n",
       "        -1.85530195e+02, -1.86304468e+02, -1.82864664e+02],\n",
       "       ...,\n",
       "       [ 6.19909598e+00,  1.37464000e+01,  1.85455979e+01, ...,\n",
       "        -4.38843772e+01, -3.62341149e+01, -3.87596111e+01],\n",
       "       [ 1.56808789e+00, -8.65975077e+00, -2.07566359e+01, ...,\n",
       "        -2.98972971e+02, -2.88410497e+02, -2.84620548e+02],\n",
       "       [ 5.12446322e-02, -2.91396452e+00, -2.01108211e+01, ...,\n",
       "        -4.74432836e+01, -4.05453717e+01, -4.57828132e+01]])"
      ]
     },
     "execution_count": 12,
     "metadata": {},
     "output_type": "execute_result"
    }
   ],
   "source": [
    "Y_mat"
   ]
  },
  {
   "cell_type": "markdown",
   "metadata": {},
   "source": [
    "## Analysis of accuracy of inference as function of number of predictors\n"
   ]
  },
  {
   "cell_type": "markdown",
   "metadata": {},
   "source": [
    "### Q2.  P-Values"
   ]
  },
  {
   "cell_type": "code",
   "execution_count": 5,
   "metadata": {},
   "outputs": [
    {
     "data": {
      "image/png": "[encoded data removed]",
      "text/plain": [
       "<Figure size 432x288 with 1 Axes>"
      ]
     },
     "metadata": {},
     "output_type": "display_data"
    }
   ],
   "source": [
    "X_sub = sm.add_constant(X_mat[:,0:490])\n",
    "Y_sub = Y_mat[:,488]\n",
    "# Create linear regression object\n",
    "regr = sm.OLS(Y_sub,X_sub).fit()\n",
    "# plot p-values\n",
    "plt.scatter(range(len(regr.pvalues)),regr.pvalues)\n",
    "plt.title(\"P-Values for 490 Predictors\")\n",
    "plt.xlabel(\"# of Regressor\")\n",
    "plt.ylabel(\"P-Value\")\n",
    "plt.ylim((0,0.05))\n",
    "plt.show()\n"
   ]
  },
  {
   "cell_type": "markdown",
   "metadata": {},
   "source": [
    "### Q3.  R Square"
   ]
  },
  {
   "cell_type": "code",
   "execution_count": 6,
   "metadata": {},
   "outputs": [],
   "source": [
    "def add_reg(num,level=0.05):\n",
    "    if num < 2:\n",
    "        print('not enough regressor selected')\n",
    "        return\n",
    "    else:\n",
    "        num = int(num)\n",
    "        # Regressor Matrix ＋ Constant\n",
    "        X = sm.add_constant(X_mat[:,0:num]) \n",
    "        # Dependent Variable Vector\n",
    "        y = Y_mat[:,num-2]  \n",
    "        ols_reg = sm.OLS(y,X).fit()\n",
    "        # R square\n",
    "        r2 = ols_reg.rsquared \n",
    "        # confidence interval\n",
    "        intv = ols_reg.conf_int(alpha=level)[1]\n",
    "        return r2,intv\n",
    "        \n",
    "        \n"
   ]
  },
  {
   "cell_type": "code",
   "execution_count": 7,
   "metadata": {},
   "outputs": [
    {
     "name": "stderr",
     "output_type": "stream",
     "text": [
      "/anaconda3/lib/python3.6/site-packages/statsmodels/regression/linear_model.py:1578: RuntimeWarning: divide by zero encountered in double_scalars\n",
      "  return np.dot(wresid, wresid) / self.df_resid\n"
     ]
    }
   ],
   "source": [
    "result = list(map(add_reg, range(2,501)))\n",
    "\n",
    "r = []\n",
    "lower_bound = []\n",
    "upper_bound = []\n",
    "for item in result:\n",
    "    r.append(item[0])\n",
    "    lower_bound.append(item[1][0])\n",
    "    upper_bound.append(item[1][1])"
   ]
  },
  {
   "cell_type": "code",
   "execution_count": 8,
   "metadata": {},
   "outputs": [
    {
     "data": {
      "image/png": "[encoded data removed]",
      "text/plain": [
       "<Figure size 432x288 with 1 Axes>"
      ]
     },
     "metadata": {},
     "output_type": "display_data"
    }
   ],
   "source": [
    "plt.plot(range(len(r)),r)\n",
    "plt.title(\"Improvement of Fit with Number of Predictors\")\n",
    "plt.xlabel(\"# of Regressors\")\n",
    "plt.ylabel(\"R-square\")\n",
    "plt.ylim((0.95,1.0005))\n",
    "plt.show()\n"
   ]
  },
  {
   "cell_type": "markdown",
   "metadata": {},
   "source": [
    "### Q4. Confidence Interval"
   ]
  },
  {
   "cell_type": "code",
   "execution_count": 11,
   "metadata": {},
   "outputs": [
    {
     "data": {
      "image/png": "[encoded data removed]",
      "text/plain": [
       "<Figure size 432x288 with 1 Axes>"
      ]
     },
     "metadata": {},
     "output_type": "display_data"
    }
   ],
   "source": [
    "plt.plot(lower_bound,'r')\n",
    "plt.plot(upper_bound,'b')\n",
    "plt.title(\"Confidence Interval for Beta1\")\n",
    "plt.xlabel(\"# of Regressors\")\n",
    "plt.ylabel(\"95% Confidence Interval\")\n",
    "plt.ylim((0.5,2))\n",
    "plt.show()"
   ]
  }
 ],
 "metadata": {
  "kernelspec": {
   "display_name": "Python 3",
   "language": "python",
   "name": "python3"
  },
  "language_info": {
   "codemirror_mode": {
    "name": "ipython",
    "version": 3
   },
   "file_extension": ".py",
   "mimetype": "text/x-python",
   "name": "python",
   "nbconvert_exporter": "python",
   "pygments_lexer": "ipython3",
   "version": "3.6.8"
  },
  "toc": {
   "base_numbering": 1,
   "nav_menu": {},
   "number_sections": true,
   "sideBar": true,
   "skip_h1_title": false,
   "title_cell": "Table of Contents",
   "title_sidebar": "Contents",
   "toc_cell": false,
   "toc_position": {},
   "toc_section_display": true,
   "toc_window_display": false
  }
 },
 "nbformat": 4,
 "nbformat_minor": 2
}
